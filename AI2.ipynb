{
 "cells": [
  {
   "cell_type": "markdown",
   "metadata": {},
   "source": [
    "### Imports"
   ]
  },
  {
   "cell_type": "code",
   "execution_count": 32,
   "metadata": {},
   "outputs": [],
   "source": [
    "import numpy as np\n",
    "import matplotlib.pyplot as plt\n",
    "from tensorflow import keras\n",
    "from tqdm import tqdm\n",
    "from sklearn.metrics import classification_report\n",
    "from sklearn.naive_bayes import BernoulliNB"
   ]
  },
  {
   "cell_type": "markdown",
   "metadata": {},
   "source": [
    "### Load data"
   ]
  },
  {
   "cell_type": "code",
   "execution_count": 2,
   "metadata": {},
   "outputs": [],
   "source": [
    "(x_train, y_train), (x_test, y_test) = keras.datasets.imdb.load_data(num_words=4000)\n",
    "\n",
    "word_index = keras.datasets.imdb.get_word_index()\n",
    "index2word = dict((i + 3, word) for (word, i) in word_index.items())\n",
    "index2word[0] = '[pad]'\n",
    "index2word[1] = '[bos]'\n",
    "index2word[2] = '[oov]'\n",
    "x_train = np.array([' '.join([index2word[idx] for idx in text]) for text in x_train])\n",
    "x_test = np.array([' '.join([index2word[idx] for idx in text]) for text in x_test])"
   ]
  },
  {
   "cell_type": "markdown",
   "metadata": {},
   "source": [
    "### Create the vocabulary"
   ]
  },
  {
   "cell_type": "code",
   "execution_count": 3,
   "metadata": {},
   "outputs": [
    {
     "name": "stdout",
     "output_type": "stream",
     "text": [
      "Original Vocabulary Length:  3998\n",
      "Vocabulary Length without stopwords 3851\n"
     ]
    }
   ],
   "source": [
    "vocabulary = list()\n",
    "for text in x_train:\n",
    "  tokens = text.split()\n",
    "  vocabulary.extend(tokens)\n",
    "\n",
    "vocabulary = set(vocabulary)\n",
    "print(\"Original Vocabulary Length: \", len(vocabulary))\n",
    "\n",
    "stopwords = ['i', 'me', 'my', 'myself', 'we', 'our', 'ours', 'ourselves', 'you', \"you're\", \"you've\", \"you'll\", \"you'd\", 'your', 'yours', 'yourself', 'yourselves', 'he', 'him', 'his', 'himself', 'she', \"she's\", 'her', 'hers', 'herself', 'it', \"it's\", 'its', 'itself', 'they', 'them', 'their', 'theirs', 'themselves', 'what', 'which', 'who', 'whom', 'this', 'that', \"that'll\", 'these', 'those', 'am', 'is', 'are', 'was', 'were', 'be', 'been', 'being', 'have', 'has', 'had', 'having', 'do', 'does', 'did', 'doing', 'a', 'an', 'the', 'and', 'but', 'if', 'or', 'because', 'as', 'until', 'while', 'of', 'at', 'by', 'for', 'with', 'about', 'against', 'between', 'into', 'through', 'during', 'before', 'after', 'above', 'below', 'to', 'from', 'up', 'down', 'in', 'out', 'on', 'off', 'over', 'under', 'again', 'further', 'then', 'once', 'here', 'there', 'when', 'where', 'why', 'how', 'all', 'any', 'both', 'each', 'few', 'more', 'most', 'other', 'some', 'such', 'no', 'nor', 'not', 'only', 'own', 'same', 'so', 'than', 'too', 'very', 's', 't', 'can', 'will', 'just', 'don', \"don't\", 'should', \"should've\", 'now', 'd', 'll', 'm', 'o', 're', 've', 'y', 'ain', 'aren', \"aren't\", 'couldn', \"couldn't\", 'didn', \"didn't\", 'doesn', \"doesn't\", 'hadn', \"hadn't\", 'hasn', \"hasn't\", 'haven', \"haven't\", 'isn', \"isn't\", 'ma', 'mightn', \"mightn't\", 'mustn', \"mustn't\", 'needn', \"needn't\", 'shan', \"shan't\", 'shouldn', \"shouldn't\", 'wasn', \"wasn't\", 'weren', \"weren't\", 'won', \"won't\", 'wouldn', \"wouldn't\"]\n",
    "vocabulary.difference_update(stopwords)\n",
    "\n",
    "print(\"Vocabulary Length without stopwords\", len(vocabulary))"
   ]
  },
  {
   "cell_type": "markdown",
   "metadata": {},
   "source": [
    "### Create binary vectors"
   ]
  },
  {
   "cell_type": "code",
   "execution_count": 4,
   "metadata": {},
   "outputs": [
    {
     "name": "stderr",
     "output_type": "stream",
     "text": [
      "100%|██████████| 25000/25000 [04:21<00:00, 95.45it/s] \n",
      "100%|██████████| 25000/25000 [04:13<00:00, 98.63it/s] \n"
     ]
    }
   ],
   "source": [
    "x_train_binary = list()\n",
    "x_test_binary = list()\n",
    "\n",
    "for text in tqdm(x_train):\n",
    "  tokens = text.split()\n",
    "  binary_vector = list()\n",
    "  for vocab_token in vocabulary:\n",
    "    if vocab_token in tokens:\n",
    "      binary_vector.append(1)\n",
    "    else:\n",
    "      binary_vector.append(0)\n",
    "  x_train_binary.append(binary_vector)\n",
    "\n",
    "x_train_binary = np.array(x_train_binary)\n",
    "\n",
    "for text in tqdm(x_test):\n",
    "  tokens = text.split()\n",
    "  binary_vector = list()\n",
    "  for vocab_token in vocabulary:\n",
    "    if vocab_token in tokens:\n",
    "      binary_vector.append(1)\n",
    "    else:\n",
    "      binary_vector.append(0)\n",
    "  x_test_binary.append(binary_vector)\n",
    "\n",
    "x_test_binary = np.array(x_test_binary)"
   ]
  },
  {
   "cell_type": "markdown",
   "metadata": {},
   "source": [
    "### My Bernoulli Naive Bayes implemenation"
   ]
  },
  {
   "cell_type": "code",
   "execution_count": 33,
   "metadata": {},
   "outputs": [],
   "source": [
    "class BNB():\n",
    "    def __init__(self) -> None:\n",
    "        self.fited = False\n",
    "\n",
    "    def fit(self, X, Y):\n",
    "        self.prior_positive, self.prior_negative = self.calculate_priors(Y)\n",
    "        # positive_count = np.zeros(len(X[0]), dtype=int)\n",
    "        # negative_count = np.zeros(len(X[0]), dtype=int)\n",
    "        positive_count = np.ones(len(X[0]), dtype=int) #ones instead of zeros for laplace\n",
    "        negative_count = np.ones(len(X[0]), dtype=int) \n",
    "        for document, label in zip(X, Y):\n",
    "            for idx, word in enumerate(document):\n",
    "                if label == 1:\n",
    "                    positive_count[idx] += word\n",
    "                else:\n",
    "                    negative_count[idx] += word\n",
    "        self.positive_frequencies = np.array([x/(len(X)*self.prior_positive) for x in positive_count])\n",
    "        self.negative_frequencies =  np.array([x/(len(X)*self.prior_negative) for x in negative_count])\n",
    "        self.fited = True\n",
    "\n",
    "    def predict(self, X):\n",
    "        if self.fited:\n",
    "            predictions = list()\n",
    "            for document in tqdm(X):\n",
    "                positive_prediction = self.prior_positive\n",
    "                negative_prediction = self.prior_negative\n",
    "                for idx, word in enumerate(document):\n",
    "                    if word == 1:\n",
    "                        positive_prediction *= self.positive_frequencies[idx]\n",
    "                        negative_prediction *= self.negative_frequencies[idx]\n",
    "                    else:\n",
    "                        positive_prediction *= (1 - self.positive_frequencies[idx])\n",
    "                        negative_prediction *= (1 - self.negative_frequencies[idx])\n",
    "\n",
    "                if positive_prediction >= negative_prediction:\n",
    "                    predictions.append(1)\n",
    "                else:\n",
    "                    predictions.append(0)\n",
    "            return predictions\n",
    "        else:\n",
    "            print(\"use fit first\")\n",
    "\n",
    "    def calculate_priors(self, Y):\n",
    "        return np.sum(Y)/len(Y), 1 - np.sum(Y)/len(Y)"
   ]
  },
  {
   "cell_type": "markdown",
   "metadata": {},
   "source": [
    "### Helper functions"
   ]
  },
  {
   "cell_type": "code",
   "execution_count": 34,
   "metadata": {},
   "outputs": [],
   "source": [
    "def calculate_precision(Y, X):\n",
    "    tp, fp, tn, fn = calculate_confusion(Y, X)\n",
    "    return tp / (fp + tp)\n",
    "\n",
    "def calculate_recall(Y, X):\n",
    "    tp, fp, tn, fn = calculate_confusion(Y, X)\n",
    "    return tp / (fn + tp)\n",
    "\n",
    "def calculate_f1_score(Y, X):\n",
    "    return 2 * calculate_precision(Y, X) * calculate_recall(Y, X) / (calculate_precision(Y, X) + calculate_recall(Y, X))\n",
    "\n",
    "def calculate_accuracy(Y, X):\n",
    "    tp, fp, tn, fn = calculate_confusion(Y, X)\n",
    "    return (tp + tn) / (tp + fn + tn + fp)\n",
    "\n",
    "def calculate_confusion(Y, X):\n",
    "    tp, fp, tn, fn = 0, 0, 0, 0\n",
    "    for actual, prediction in zip(Y, X):\n",
    "        if actual == 1 and prediction == 1:\n",
    "            tp += 1\n",
    "        elif actual == 1 and prediction == 0:\n",
    "            fn += 1\n",
    "        elif actual == 0 and prediction == 1:\n",
    "            fp += 1\n",
    "        else:\n",
    "            tn += 1\n",
    "    return tp, fp, tn, fn\n"
   ]
  },
  {
   "cell_type": "markdown",
   "metadata": {},
   "source": [
    "### Fit my implementation and predict in stages"
   ]
  },
  {
   "cell_type": "code",
   "execution_count": 7,
   "metadata": {},
   "outputs": [
    {
     "name": "stdout",
     "output_type": "stream",
     "text": [
      "100 :\n"
     ]
    },
    {
     "name": "stderr",
     "output_type": "stream",
     "text": [
      "100%|██████████| 25000/25000 [01:41<00:00, 246.15it/s]\n"
     ]
    },
    {
     "name": "stdout",
     "output_type": "stream",
     "text": [
      "              precision    recall  f1-score   support\n",
      "\n",
      "           0       0.52      0.96      0.67     12500\n",
      "           1       0.71      0.10      0.18     12500\n",
      "\n",
      "    accuracy                           0.53     25000\n",
      "   macro avg       0.61      0.53      0.43     25000\n",
      "weighted avg       0.61      0.53      0.43     25000\n",
      "\n",
      "Accuracy:  0.53072\n",
      "Precision:  0.7107574094401756\n",
      "Recall:  0.1036\n",
      "F1-score:  0.18084066471163243\n",
      "200 :\n"
     ]
    },
    {
     "name": "stderr",
     "output_type": "stream",
     "text": [
      "100%|██████████| 25000/25000 [01:41<00:00, 246.51it/s]\n"
     ]
    },
    {
     "name": "stdout",
     "output_type": "stream",
     "text": [
      "              precision    recall  f1-score   support\n",
      "\n",
      "           0       0.60      0.92      0.73     12500\n",
      "           1       0.84      0.38      0.52     12500\n",
      "\n",
      "    accuracy                           0.65     25000\n",
      "   macro avg       0.72      0.65      0.63     25000\n",
      "weighted avg       0.72      0.65      0.63     25000\n",
      "\n",
      "Accuracy:  0.65348\n",
      "Precision:  0.8356955380577428\n",
      "Recall:  0.38208\n",
      "F1-score:  0.5244029645896239\n",
      "300 :\n"
     ]
    },
    {
     "name": "stderr",
     "output_type": "stream",
     "text": [
      "100%|██████████| 25000/25000 [01:41<00:00, 246.55it/s]\n"
     ]
    },
    {
     "name": "stdout",
     "output_type": "stream",
     "text": [
      "              precision    recall  f1-score   support\n",
      "\n",
      "           0       0.76      0.82      0.79     12500\n",
      "           1       0.81      0.74      0.77     12500\n",
      "\n",
      "    accuracy                           0.78     25000\n",
      "   macro avg       0.78      0.78      0.78     25000\n",
      "weighted avg       0.78      0.78      0.78     25000\n",
      "\n",
      "Accuracy:  0.78128\n",
      "Precision:  0.8076653832691635\n",
      "Recall:  0.7384\n",
      "F1-score:  0.7714811099966565\n",
      "400 :\n"
     ]
    },
    {
     "name": "stderr",
     "output_type": "stream",
     "text": [
      "100%|██████████| 25000/25000 [01:41<00:00, 245.96it/s]\n"
     ]
    },
    {
     "name": "stdout",
     "output_type": "stream",
     "text": [
      "              precision    recall  f1-score   support\n",
      "\n",
      "           0       0.81      0.77      0.79     12500\n",
      "           1       0.78      0.82      0.80     12500\n",
      "\n",
      "    accuracy                           0.80     25000\n",
      "   macro avg       0.80      0.80      0.80     25000\n",
      "weighted avg       0.80      0.80      0.80     25000\n",
      "\n",
      "Accuracy:  0.79532\n",
      "Precision:  0.7805304354434227\n",
      "Recall:  0.82168\n",
      "F1-score:  0.800576795666238\n",
      "500 :\n"
     ]
    },
    {
     "name": "stderr",
     "output_type": "stream",
     "text": [
      "100%|██████████| 25000/25000 [01:40<00:00, 248.54it/s]\n"
     ]
    },
    {
     "name": "stdout",
     "output_type": "stream",
     "text": [
      "              precision    recall  f1-score   support\n",
      "\n",
      "           0       0.77      0.83      0.80     12500\n",
      "           1       0.82      0.76      0.79     12500\n",
      "\n",
      "    accuracy                           0.79     25000\n",
      "   macro avg       0.79      0.79      0.79     25000\n",
      "weighted avg       0.79      0.79      0.79     25000\n",
      "\n",
      "Accuracy:  0.79284\n",
      "Precision:  0.8158053662324217\n",
      "Recall:  0.75648\n",
      "F1-score:  0.7850234527416878\n",
      "1000 :\n"
     ]
    },
    {
     "name": "stderr",
     "output_type": "stream",
     "text": [
      "100%|██████████| 25000/25000 [01:40<00:00, 247.99it/s]\n"
     ]
    },
    {
     "name": "stdout",
     "output_type": "stream",
     "text": [
      "              precision    recall  f1-score   support\n",
      "\n",
      "           0       0.79      0.83      0.81     12500\n",
      "           1       0.83      0.78      0.80     12500\n",
      "\n",
      "    accuracy                           0.81     25000\n",
      "   macro avg       0.81      0.81      0.81     25000\n",
      "weighted avg       0.81      0.81      0.81     25000\n",
      "\n",
      "Accuracy:  0.80872\n",
      "Precision:  0.8254892037786775\n",
      "Recall:  0.78296\n",
      "F1-score:  0.8036623419280671\n",
      "2000 :\n"
     ]
    },
    {
     "name": "stderr",
     "output_type": "stream",
     "text": [
      "100%|██████████| 25000/25000 [01:40<00:00, 247.77it/s]\n"
     ]
    },
    {
     "name": "stdout",
     "output_type": "stream",
     "text": [
      "              precision    recall  f1-score   support\n",
      "\n",
      "           0       0.81      0.84      0.83     12500\n",
      "           1       0.84      0.80      0.82     12500\n",
      "\n",
      "    accuracy                           0.82     25000\n",
      "   macro avg       0.82      0.82      0.82     25000\n",
      "weighted avg       0.82      0.82      0.82     25000\n",
      "\n",
      "Accuracy:  0.82232\n",
      "Precision:  0.8371548117154811\n",
      "Recall:  0.80032\n",
      "F1-score:  0.8183231083844581\n",
      "2500 :\n"
     ]
    },
    {
     "name": "stderr",
     "output_type": "stream",
     "text": [
      "100%|██████████| 25000/25000 [01:40<00:00, 247.67it/s]\n"
     ]
    },
    {
     "name": "stdout",
     "output_type": "stream",
     "text": [
      "              precision    recall  f1-score   support\n",
      "\n",
      "           0       0.81      0.85      0.83     12500\n",
      "           1       0.84      0.80      0.82     12500\n",
      "\n",
      "    accuracy                           0.82     25000\n",
      "   macro avg       0.82      0.82      0.82     25000\n",
      "weighted avg       0.82      0.82      0.82     25000\n",
      "\n",
      "Accuracy:  0.82304\n",
      "Precision:  0.8417978669375318\n",
      "Recall:  0.7956\n",
      "F1-score:  0.818047215595953\n",
      "5000 :\n"
     ]
    },
    {
     "name": "stderr",
     "output_type": "stream",
     "text": [
      "100%|██████████| 25000/25000 [01:40<00:00, 248.03it/s]\n"
     ]
    },
    {
     "name": "stdout",
     "output_type": "stream",
     "text": [
      "              precision    recall  f1-score   support\n",
      "\n",
      "           0       0.83      0.84      0.83     12500\n",
      "           1       0.84      0.82      0.83     12500\n",
      "\n",
      "    accuracy                           0.83     25000\n",
      "   macro avg       0.83      0.83      0.83     25000\n",
      "weighted avg       0.83      0.83      0.83     25000\n",
      "\n",
      "Accuracy:  0.83252\n",
      "Precision:  0.839777650617183\n",
      "Recall:  0.82184\n",
      "F1-score:  0.8307120042049085\n",
      "7500 :\n"
     ]
    },
    {
     "name": "stderr",
     "output_type": "stream",
     "text": [
      "100%|██████████| 25000/25000 [01:40<00:00, 248.42it/s]\n"
     ]
    },
    {
     "name": "stdout",
     "output_type": "stream",
     "text": [
      "              precision    recall  f1-score   support\n",
      "\n",
      "           0       0.83      0.84      0.84     12500\n",
      "           1       0.84      0.83      0.83     12500\n",
      "\n",
      "    accuracy                           0.84     25000\n",
      "   macro avg       0.84      0.84      0.84     25000\n",
      "weighted avg       0.84      0.84      0.84     25000\n",
      "\n",
      "Accuracy:  0.83516\n",
      "Precision:  0.8383813908408044\n",
      "Recall:  0.8304\n",
      "F1-score:  0.834371608858165\n",
      "10000 :\n"
     ]
    },
    {
     "name": "stderr",
     "output_type": "stream",
     "text": [
      "100%|██████████| 25000/25000 [01:40<00:00, 248.42it/s]\n"
     ]
    },
    {
     "name": "stdout",
     "output_type": "stream",
     "text": [
      "              precision    recall  f1-score   support\n",
      "\n",
      "           0       0.84      0.84      0.84     12500\n",
      "           1       0.84      0.84      0.84     12500\n",
      "\n",
      "    accuracy                           0.84     25000\n",
      "   macro avg       0.84      0.84      0.84     25000\n",
      "weighted avg       0.84      0.84      0.84     25000\n",
      "\n",
      "Accuracy:  0.83892\n",
      "Precision:  0.8373815401767938\n",
      "Recall:  0.8412\n",
      "F1-score:  0.8392864269465617\n",
      "12500 :\n"
     ]
    },
    {
     "name": "stderr",
     "output_type": "stream",
     "text": [
      "100%|██████████| 25000/25000 [01:40<00:00, 248.13it/s]\n"
     ]
    },
    {
     "name": "stdout",
     "output_type": "stream",
     "text": [
      "              precision    recall  f1-score   support\n",
      "\n",
      "           0       0.84      0.84      0.84     12500\n",
      "           1       0.84      0.84      0.84     12500\n",
      "\n",
      "    accuracy                           0.84     25000\n",
      "   macro avg       0.84      0.84      0.84     25000\n",
      "weighted avg       0.84      0.84      0.84     25000\n",
      "\n",
      "Accuracy:  0.839\n",
      "Precision:  0.8390813795310874\n",
      "Recall:  0.83888\n",
      "F1-score:  0.8389806776813218\n",
      "15000 :\n"
     ]
    },
    {
     "name": "stderr",
     "output_type": "stream",
     "text": [
      "100%|██████████| 25000/25000 [01:40<00:00, 247.91it/s]\n"
     ]
    },
    {
     "name": "stdout",
     "output_type": "stream",
     "text": [
      "              precision    recall  f1-score   support\n",
      "\n",
      "           0       0.84      0.84      0.84     12500\n",
      "           1       0.84      0.84      0.84     12500\n",
      "\n",
      "    accuracy                           0.84     25000\n",
      "   macro avg       0.84      0.84      0.84     25000\n",
      "weighted avg       0.84      0.84      0.84     25000\n",
      "\n",
      "Accuracy:  0.83748\n",
      "Precision:  0.8380479205064508\n",
      "Recall:  0.83664\n",
      "F1-score:  0.8373433684294809\n",
      "17500 :\n"
     ]
    },
    {
     "name": "stderr",
     "output_type": "stream",
     "text": [
      "100%|██████████| 25000/25000 [01:40<00:00, 248.38it/s]\n"
     ]
    },
    {
     "name": "stdout",
     "output_type": "stream",
     "text": [
      "              precision    recall  f1-score   support\n",
      "\n",
      "           0       0.84      0.84      0.84     12500\n",
      "           1       0.84      0.84      0.84     12500\n",
      "\n",
      "    accuracy                           0.84     25000\n",
      "   macro avg       0.84      0.84      0.84     25000\n",
      "weighted avg       0.84      0.84      0.84     25000\n",
      "\n",
      "Accuracy:  0.83796\n",
      "Precision:  0.8392355255761664\n",
      "Recall:  0.83608\n",
      "F1-score:  0.8376547910070934\n",
      "20000 :\n"
     ]
    },
    {
     "name": "stderr",
     "output_type": "stream",
     "text": [
      "100%|██████████| 25000/25000 [01:40<00:00, 248.06it/s]\n"
     ]
    },
    {
     "name": "stdout",
     "output_type": "stream",
     "text": [
      "              precision    recall  f1-score   support\n",
      "\n",
      "           0       0.83      0.84      0.84     12500\n",
      "           1       0.84      0.83      0.84     12500\n",
      "\n",
      "    accuracy                           0.84     25000\n",
      "   macro avg       0.84      0.84      0.84     25000\n",
      "weighted avg       0.84      0.84      0.84     25000\n",
      "\n",
      "Accuracy:  0.83704\n",
      "Precision:  0.8410231503966327\n",
      "Recall:  0.8312\n",
      "F1-score:  0.8360827231029211\n",
      "22500 :\n"
     ]
    },
    {
     "name": "stderr",
     "output_type": "stream",
     "text": [
      "100%|██████████| 25000/25000 [01:42<00:00, 244.48it/s]\n"
     ]
    },
    {
     "name": "stdout",
     "output_type": "stream",
     "text": [
      "              precision    recall  f1-score   support\n",
      "\n",
      "           0       0.84      0.84      0.84     12500\n",
      "           1       0.84      0.84      0.84     12500\n",
      "\n",
      "    accuracy                           0.84     25000\n",
      "   macro avg       0.84      0.84      0.84     25000\n",
      "weighted avg       0.84      0.84      0.84     25000\n",
      "\n",
      "Accuracy:  0.8392\n",
      "Precision:  0.8404528665489\n",
      "Recall:  0.83736\n",
      "F1-score:  0.8389035825919692\n",
      "25000 :\n"
     ]
    },
    {
     "name": "stderr",
     "output_type": "stream",
     "text": [
      "100%|██████████| 25000/25000 [01:43<00:00, 241.37it/s]\n"
     ]
    },
    {
     "name": "stdout",
     "output_type": "stream",
     "text": [
      "              precision    recall  f1-score   support\n",
      "\n",
      "           0       0.84      0.84      0.84     12500\n",
      "           1       0.84      0.84      0.84     12500\n",
      "\n",
      "    accuracy                           0.84     25000\n",
      "   macro avg       0.84      0.84      0.84     25000\n",
      "weighted avg       0.84      0.84      0.84     25000\n",
      "\n",
      "Accuracy:  0.83924\n",
      "Precision:  0.8382927802153969\n",
      "Recall:  0.84064\n",
      "F1-score:  0.8394647493509088\n"
     ]
    }
   ],
   "source": [
    "myBNB = BNB()\n",
    "accuracy = list()\n",
    "precision = list()\n",
    "recall = list()\n",
    "f1 = list()\n",
    "step_percentage = 0.1\n",
    "steps = ([100, 200, 300, 400, 500, 1000, 2000] + list(range(int(len(y_train)*step_percentage) , len(y_train) + 1 , int(len(y_train)*step_percentage))))\n",
    "for step in steps:\n",
    "    print(step, \":\")\n",
    "    myBNB.fit(x_train_binary[:step], y_train[:step])\n",
    "    predictions =  myBNB.predict(x_test_binary)\n",
    "    print(classification_report(y_test, predictions))\n",
    "    accuracy.append(calculate_accuracy(y_test, predictions))\n",
    "    precision.append(calculate_precision(y_test, predictions))\n",
    "    recall.append(calculate_recall(y_test, predictions))\n",
    "    f1.append(calculate_f1_score(y_test, predictions))\n",
    "    print(\"Accuracy: \", calculate_accuracy(y_test, predictions))\n",
    "    print(\"Precision: \", calculate_precision(y_test, predictions))\n",
    "    print(\"Recall: \", calculate_recall(y_test, predictions))\n",
    "    print(\"F1-score: \", calculate_f1_score(y_test, predictions))"
   ]
  },
  {
   "cell_type": "markdown",
   "metadata": {},
   "source": [
    "### Compare with sklearn's implementation"
   ]
  },
  {
   "cell_type": "code",
   "execution_count": 8,
   "metadata": {},
   "outputs": [
    {
     "name": "stdout",
     "output_type": "stream",
     "text": [
      "100 :\n",
      "              precision    recall  f1-score   support\n",
      "\n",
      "           0       0.52      0.97      0.68     12500\n",
      "           1       0.78      0.11      0.20     12500\n",
      "\n",
      "    accuracy                           0.54     25000\n",
      "   macro avg       0.65      0.54      0.44     25000\n",
      "weighted avg       0.65      0.54      0.44     25000\n",
      "\n",
      "200 :\n",
      "              precision    recall  f1-score   support\n",
      "\n",
      "           0       0.61      0.94      0.74     12500\n",
      "           1       0.87      0.40      0.55     12500\n",
      "\n",
      "    accuracy                           0.67     25000\n",
      "   macro avg       0.74      0.67      0.65     25000\n",
      "weighted avg       0.74      0.67      0.65     25000\n",
      "\n",
      "300 :\n",
      "              precision    recall  f1-score   support\n",
      "\n",
      "           0       0.76      0.85      0.80     12500\n",
      "           1       0.83      0.74      0.78     12500\n",
      "\n",
      "    accuracy                           0.79     25000\n",
      "   macro avg       0.79      0.79      0.79     25000\n",
      "weighted avg       0.79      0.79      0.79     25000\n",
      "\n",
      "400 :\n",
      "              precision    recall  f1-score   support\n",
      "\n",
      "           0       0.81      0.79      0.80     12500\n",
      "           1       0.79      0.82      0.81     12500\n",
      "\n",
      "    accuracy                           0.80     25000\n",
      "   macro avg       0.80      0.80      0.80     25000\n",
      "weighted avg       0.80      0.80      0.80     25000\n",
      "\n",
      "500 :\n",
      "              precision    recall  f1-score   support\n",
      "\n",
      "           0       0.78      0.85      0.81     12500\n",
      "           1       0.83      0.75      0.79     12500\n",
      "\n",
      "    accuracy                           0.80     25000\n",
      "   macro avg       0.80      0.80      0.80     25000\n",
      "weighted avg       0.80      0.80      0.80     25000\n",
      "\n",
      "1000 :\n",
      "              precision    recall  f1-score   support\n",
      "\n",
      "           0       0.80      0.85      0.82     12500\n",
      "           1       0.84      0.78      0.81     12500\n",
      "\n",
      "    accuracy                           0.82     25000\n",
      "   macro avg       0.82      0.82      0.82     25000\n",
      "weighted avg       0.82      0.82      0.82     25000\n",
      "\n",
      "2000 :\n",
      "              precision    recall  f1-score   support\n",
      "\n",
      "           0       0.81      0.86      0.84     12500\n",
      "           1       0.85      0.80      0.83     12500\n",
      "\n",
      "    accuracy                           0.83     25000\n",
      "   macro avg       0.83      0.83      0.83     25000\n",
      "weighted avg       0.83      0.83      0.83     25000\n",
      "\n",
      "2500 :\n",
      "              precision    recall  f1-score   support\n",
      "\n",
      "           0       0.81      0.87      0.84     12500\n",
      "           1       0.86      0.79      0.82     12500\n",
      "\n",
      "    accuracy                           0.83     25000\n",
      "   macro avg       0.83      0.83      0.83     25000\n",
      "weighted avg       0.83      0.83      0.83     25000\n",
      "\n",
      "5000 :\n",
      "              precision    recall  f1-score   support\n",
      "\n",
      "           0       0.83      0.86      0.84     12500\n",
      "           1       0.86      0.82      0.84     12500\n",
      "\n",
      "    accuracy                           0.84     25000\n",
      "   macro avg       0.84      0.84      0.84     25000\n",
      "weighted avg       0.84      0.84      0.84     25000\n",
      "\n",
      "7500 :\n",
      "              precision    recall  f1-score   support\n",
      "\n",
      "           0       0.83      0.86      0.85     12500\n",
      "           1       0.86      0.83      0.84     12500\n",
      "\n",
      "    accuracy                           0.84     25000\n",
      "   macro avg       0.84      0.84      0.84     25000\n",
      "weighted avg       0.84      0.84      0.84     25000\n",
      "\n",
      "10000 :\n",
      "              precision    recall  f1-score   support\n",
      "\n",
      "           0       0.84      0.86      0.85     12500\n",
      "           1       0.85      0.84      0.85     12500\n",
      "\n",
      "    accuracy                           0.85     25000\n",
      "   macro avg       0.85      0.85      0.85     25000\n",
      "weighted avg       0.85      0.85      0.85     25000\n",
      "\n",
      "12500 :\n",
      "              precision    recall  f1-score   support\n",
      "\n",
      "           0       0.84      0.86      0.85     12500\n",
      "           1       0.86      0.84      0.85     12500\n",
      "\n",
      "    accuracy                           0.85     25000\n",
      "   macro avg       0.85      0.85      0.85     25000\n",
      "weighted avg       0.85      0.85      0.85     25000\n",
      "\n",
      "15000 :\n",
      "              precision    recall  f1-score   support\n",
      "\n",
      "           0       0.84      0.86      0.85     12500\n",
      "           1       0.86      0.83      0.84     12500\n",
      "\n",
      "    accuracy                           0.85     25000\n",
      "   macro avg       0.85      0.85      0.85     25000\n",
      "weighted avg       0.85      0.85      0.85     25000\n",
      "\n",
      "17500 :\n",
      "              precision    recall  f1-score   support\n",
      "\n",
      "           0       0.84      0.86      0.85     12500\n",
      "           1       0.86      0.83      0.84     12500\n",
      "\n",
      "    accuracy                           0.85     25000\n",
      "   macro avg       0.85      0.85      0.85     25000\n",
      "weighted avg       0.85      0.85      0.85     25000\n",
      "\n",
      "20000 :\n",
      "              precision    recall  f1-score   support\n",
      "\n",
      "           0       0.83      0.86      0.85     12500\n",
      "           1       0.86      0.83      0.84     12500\n",
      "\n",
      "    accuracy                           0.85     25000\n",
      "   macro avg       0.85      0.85      0.85     25000\n",
      "weighted avg       0.85      0.85      0.85     25000\n",
      "\n",
      "22500 :\n",
      "              precision    recall  f1-score   support\n",
      "\n",
      "           0       0.84      0.86      0.85     12500\n",
      "           1       0.86      0.83      0.85     12500\n",
      "\n",
      "    accuracy                           0.85     25000\n",
      "   macro avg       0.85      0.85      0.85     25000\n",
      "weighted avg       0.85      0.85      0.85     25000\n",
      "\n",
      "25000 :\n",
      "              precision    recall  f1-score   support\n",
      "\n",
      "           0       0.84      0.86      0.85     12500\n",
      "           1       0.86      0.84      0.85     12500\n",
      "\n",
      "    accuracy                           0.85     25000\n",
      "   macro avg       0.85      0.85      0.85     25000\n",
      "weighted avg       0.85      0.85      0.85     25000\n",
      "\n"
     ]
    }
   ],
   "source": [
    "nb = BernoulliNB()\n",
    "for step in steps:\n",
    "    print(step, \":\")\n",
    "    nb.fit(x_train_binary[:step], y_train[:step])\n",
    "    predictions = nb.predict(x_test_binary)\n",
    "    print(classification_report(y_test, predictions))"
   ]
  },
  {
   "cell_type": "markdown",
   "metadata": {},
   "source": [
    "### Generate graphs"
   ]
  },
  {
   "cell_type": "code",
   "execution_count": 9,
   "metadata": {},
   "outputs": [
    {
     "data": {
      "text/plain": [
       "Text(0, 0.5, 'Metrics')"
      ]
     },
     "execution_count": 9,
     "metadata": {},
     "output_type": "execute_result"
    },
    {
     "data": {
      "image/png": "[encoded data removed]",
      "text/plain": [
       "<Figure size 1280x720 with 1 Axes>"
      ]
     },
     "metadata": {
      "needs_background": "light"
     },
     "output_type": "display_data"
    }
   ],
   "source": [
    "plt.figure(figsize=(16,9), dpi= 80)\n",
    "plt.plot(steps, accuracy)\n",
    "plt.plot(steps, precision)\n",
    "plt.plot(steps, recall)\n",
    "plt.plot(steps, f1)\n",
    "plt.legend ([\"Accuracy\", \"Precision\", \"Recall\", \"F1 Score\"])\n",
    "plt.ylim(0.5,1)\n",
    "plt.title(\"Metrics Graph\", fontsize=22)\n",
    "plt.xlabel(\"Size of training data\")\n",
    "plt.ylabel(\"Metrics\")"
   ]
  },
  {
   "cell_type": "markdown",
   "metadata": {},
   "source": [
    "### Test with 8000 words and 5000 reviews"
   ]
  },
  {
   "cell_type": "code",
   "execution_count": 38,
   "metadata": {},
   "outputs": [
    {
     "name": "stdout",
     "output_type": "stream",
     "text": [
      "Original Vocabulary Length:  7997\n",
      "Vocabulary Length without stopwords 7846\n"
     ]
    },
    {
     "name": "stderr",
     "output_type": "stream",
     "text": [
      "100%|██████████| 5000/5000 [01:53<00:00, 44.10it/s]\n",
      "100%|██████████| 5000/5000 [01:46<00:00, 46.94it/s]\n"
     ]
    }
   ],
   "source": [
    "(x_train, y_train), (x_test, y_test) = keras.datasets.imdb.load_data(num_words=8000)\n",
    "\n",
    "word_index = keras.datasets.imdb.get_word_index()\n",
    "index2word = dict((i + 3, word) for (word, i) in word_index.items())\n",
    "index2word[0] = '[pad]'\n",
    "index2word[1] = '[bos]'\n",
    "index2word[2] = '[oov]'\n",
    "x_train = np.array([' '.join([index2word[idx] for idx in text]) for text in x_train])\n",
    "x_test = np.array([' '.join([index2word[idx] for idx in text]) for text in x_test])\n",
    "\n",
    "vocabulary = list()\n",
    "for text in x_train:\n",
    "  tokens = text.split()\n",
    "  vocabulary.extend(tokens)\n",
    "\n",
    "vocabulary = set(vocabulary)\n",
    "print(\"Original Vocabulary Length: \", len(vocabulary))\n",
    "\n",
    "stopwords = ['i', 'me', 'my', 'myself', 'we', 'our', 'ours', 'ourselves', 'you', \"you're\", \"you've\", \"you'll\", \"you'd\", 'your', 'yours', 'yourself', 'yourselves', 'he', 'him', 'his', 'himself', 'she', \"she's\", 'her', 'hers', 'herself', 'it', \"it's\", 'its', 'itself', 'they', 'them', 'their', 'theirs', 'themselves', 'what', 'which', 'who', 'whom', 'this', 'that', \"that'll\", 'these', 'those', 'am', 'is', 'are', 'was', 'were', 'be', 'been', 'being', 'have', 'has', 'had', 'having', 'do', 'does', 'did', 'doing', 'a', 'an', 'the', 'and', 'but', 'if', 'or', 'because', 'as', 'until', 'while', 'of', 'at', 'by', 'for', 'with', 'about', 'against', 'between', 'into', 'through', 'during', 'before', 'after', 'above', 'below', 'to', 'from', 'up', 'down', 'in', 'out', 'on', 'off', 'over', 'under', 'again', 'further', 'then', 'once', 'here', 'there', 'when', 'where', 'why', 'how', 'all', 'any', 'both', 'each', 'few', 'more', 'most', 'other', 'some', 'such', 'no', 'nor', 'not', 'only', 'own', 'same', 'so', 'than', 'too', 'very', 's', 't', 'can', 'will', 'just', 'don', \"don't\", 'should', \"should've\", 'now', 'd', 'll', 'm', 'o', 're', 've', 'y', 'ain', 'aren', \"aren't\", 'couldn', \"couldn't\", 'didn', \"didn't\", 'doesn', \"doesn't\", 'hadn', \"hadn't\", 'hasn', \"hasn't\", 'haven', \"haven't\", 'isn', \"isn't\", 'ma', 'mightn', \"mightn't\", 'mustn', \"mustn't\", 'needn', \"needn't\", 'shan', \"shan't\", 'shouldn', \"shouldn't\", 'wasn', \"wasn't\", 'weren', \"weren't\", 'won', \"won't\", 'wouldn', \"wouldn't\"]\n",
    "vocabulary.difference_update(stopwords)\n",
    "\n",
    "print(\"Vocabulary Length without stopwords\", len(vocabulary))\n",
    "\n",
    "x_train_binary = list()\n",
    "x_test_binary = list()\n",
    "\n",
    "for text in tqdm(x_train[:5000]):\n",
    "  tokens = text.split()\n",
    "  binary_vector = list()\n",
    "  for vocab_token in vocabulary:\n",
    "    if vocab_token in tokens:\n",
    "      binary_vector.append(1)\n",
    "    else:\n",
    "      binary_vector.append(0)\n",
    "  x_train_binary.append(binary_vector)\n",
    "\n",
    "x_train_binary = np.array(x_train_binary)\n",
    "\n",
    "for text in tqdm(x_test[:5000]):\n",
    "  tokens = text.split()\n",
    "  binary_vector = list()\n",
    "  for vocab_token in vocabulary:\n",
    "    if vocab_token in tokens:\n",
    "      binary_vector.append(1)\n",
    "    else:\n",
    "      binary_vector.append(0)\n",
    "  x_test_binary.append(binary_vector)\n",
    "\n",
    "x_test_binary = np.array(x_test_binary)"
   ]
  },
  {
   "cell_type": "code",
   "execution_count": 39,
   "metadata": {},
   "outputs": [
    {
     "name": "stderr",
     "output_type": "stream",
     "text": [
      "100%|██████████| 5000/5000 [00:43<00:00, 115.67it/s]\n"
     ]
    },
    {
     "name": "stdout",
     "output_type": "stream",
     "text": [
      "              precision    recall  f1-score   support\n",
      "\n",
      "           0       0.82      0.83      0.82      2571\n",
      "           1       0.82      0.81      0.81      2429\n",
      "\n",
      "    accuracy                           0.82      5000\n",
      "   macro avg       0.82      0.82      0.82      5000\n",
      "weighted avg       0.82      0.82      0.82      5000\n",
      "\n",
      "Accuracy:  0.8184\n",
      "Precision:  0.8154292824554127\n",
      "Recall:  0.8093865788390284\n",
      "F1-score:  0.8123966942148761\n",
      "              precision    recall  f1-score   support\n",
      "\n",
      "           0       0.82      0.87      0.84      2571\n",
      "           1       0.85      0.80      0.83      2429\n",
      "\n",
      "    accuracy                           0.84      5000\n",
      "   macro avg       0.84      0.83      0.84      5000\n",
      "weighted avg       0.84      0.84      0.84      5000\n",
      "\n"
     ]
    }
   ],
   "source": [
    "myBNB = BNB()\n",
    "myBNB.fit(x_train_binary, y_train[:5000])\n",
    "predictions =  myBNB.predict(x_test_binary)\n",
    "print(classification_report(y_test[:5000], predictions))\n",
    "print(\"Accuracy: \", calculate_accuracy(y_test[:5000], predictions))\n",
    "print(\"Precision: \", calculate_precision(y_test[:5000], predictions))\n",
    "print(\"Recall: \", calculate_recall(y_test[:5000], predictions))\n",
    "print(\"F1-score: \", calculate_f1_score(y_test[:5000], predictions))\n",
    "\n",
    "nb = BernoulliNB()\n",
    "nb.fit(x_train_binary, y_train[:5000])\n",
    "predictions = nb.predict(x_test_binary)\n",
    "print(classification_report(y_test[:5000], predictions))"
   ]
  }
 ],
 "metadata": {
  "interpreter": {
   "hash": "62f3535457eb93f2f758cb7719215f0bdad15136930ff06358bb31ed0d687c07"
  },
  "kernelspec": {
   "display_name": "Python 3.9.4 64-bit ('.venv': venv)",
   "language": "python",
   "name": "python3"
  },
  "language_info": {
   "codemirror_mode": {
    "name": "ipython",
    "version": 3
   },
   "file_extension": ".py",
   "mimetype": "text/x-python",
   "name": "python",
   "nbconvert_exporter": "python",
   "pygments_lexer": "ipython3",
   "version": "3.9.4"
  },
  "orig_nbformat": 4
 },
 "nbformat": 4,
 "nbformat_minor": 2
}
