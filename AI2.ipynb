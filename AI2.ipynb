{
 "cells": [
  {
   "cell_type": "markdown",
   "metadata": {},
   "source": [
    "### Imports"
   ]
  },
  {
   "cell_type": "code",
   "execution_count": 27,
   "metadata": {},
   "outputs": [],
   "source": [
    "import numpy as np\n",
    "import matplotlib.pyplot as plt\n",
    "from tensorflow import keras\n",
    "from tqdm import tqdm\n",
    "from sklearn.metrics import classification_report\n",
    "from sklearn.naive_bayes import BernoulliNB"
   ]
  },
  {
   "cell_type": "markdown",
   "metadata": {},
   "source": [
    "### Load data"
   ]
  },
  {
   "cell_type": "code",
   "execution_count": 28,
   "metadata": {},
   "outputs": [],
   "source": [
    "(x_train, y_train), (x_test, y_test) = keras.datasets.imdb.load_data(num_words=4000)\n",
    "\n",
    "word_index = keras.datasets.imdb.get_word_index()\n",
    "index2word = dict((i + 3, word) for (word, i) in word_index.items())\n",
    "index2word[0] = '[pad]'\n",
    "index2word[1] = '[bos]'\n",
    "index2word[2] = '[oov]'\n",
    "x_train = np.array([' '.join([index2word[idx] for idx in text]) for text in x_train])\n",
    "x_test = np.array([' '.join([index2word[idx] for idx in text]) for text in x_test])"
   ]
  },
  {
   "cell_type": "markdown",
   "metadata": {},
   "source": [
    "### Create the vocabulary"
   ]
  },
  {
   "cell_type": "code",
   "execution_count": 29,
   "metadata": {},
   "outputs": [
    {
     "name": "stdout",
     "output_type": "stream",
     "text": [
      "Original Vocabulary Length:  3998\n",
      "Vocabulary Length without stopwords:  3839\n"
     ]
    }
   ],
   "source": [
    "vocabulary = list()\n",
    "for text in x_train:\n",
    "  tokens = text.split()\n",
    "  vocabulary.extend(tokens)\n",
    "\n",
    "vocabulary = set(vocabulary)\n",
    "print(\"Original Vocabulary Length: \", len(vocabulary))\n",
    "\n",
    "stopwords = ['the', 'and', 'a', 'of', 'to', 'is', 'br', 'in', 'it', 'i', 'this', 'that', 'was', 'as', 'for', 'with', 'movie', 'but', 'film', 'on', 'you', 'are', 'his', 'have', 'he', 'be', 'one', 'all', 'at', 'by', 'an', 'they', 'who', 'so', 'from', 'her', 'or', 'just', 'about', \"it's\", 'out', 'has', 'if', 'some', 'there', 'what', 'more', 'when', 'very', 'up', 'time', 'she', 'even', 'my', 'would', 'which', 'only', 'story', 'really', 'see', 'their', 'had', 'can', 'were', 'me', 'than', 'we', 'been', 'get', 'will', 'do', 'also', 'into', 'people', 'other', 'first', 'because', 'how', 'him', 'most', 'made', 'its', 'then', 'way', 'make', 'them', 'too', 'could', 'any', 'movies', 'i', 'me', 'my', 'myself', 'we', 'our', 'ours', 'ourselves', 'you', \"you're\", \"you've\", \"you'll\", \"you'd\", 'your', 'yours', 'yourself', 'yourselves', 'he', 'him', 'his', 'himself', 'she', \"she's\", 'her', 'hers', 'herself', 'it', \"it's\", 'its', 'itself', 'they', 'them', 'their', 'theirs', 'themselves', 'what', 'which', 'who', 'whom', 'this', 'that', \"that'll\", 'these', 'those', 'am', 'is', 'are', 'was', 'were', 'be', 'been', 'being', 'have', 'has', 'had', 'having', 'do', 'does', 'did', 'doing', 'a', 'an', 'the', 'and', 'but', 'if', 'or', 'because', 'as', 'until', 'while', 'of', 'at', 'by', 'for', 'with', 'about', 'against', 'between', 'into', 'through', 'during', 'before', 'after', 'above', 'below', 'to', 'from', 'up', 'down', 'in', 'out', 'on', 'off', 'over', 'under', 'again', 'further', 'then', 'once', 'here', 'there', 'when', 'where', 'why', 'how', 'all', 'any', 'both', 'each', 'few', 'more', 'most', 'other', 'some', 'such', 'no', 'nor', 'only', 'own', 'same', 'so', 'than', 'too', 'very', 's', 't', 'can', 'will', 'just', 'don', 'should', \"should've\", 'now', 'd', 'll', 'm', 'o', 're', 've', 'y', 'ain', 'aren', \"aren't\", 'didn', \"didn't\", 'doesn', \"doesn't\", 'hadn', \"hadn't\", 'hasn', \"hasn't\", 'ma', 'mightn', \"mightn't\", 'needn', \"needn't\", 'shan', \"shan't\", 'wasn', \"wasn't\", 'weren', \"weren't\", '[pad]', '[bos]', '[oov]']\n",
    "vocabulary.difference_update(stopwords)\n",
    "\n",
    "print(\"Vocabulary Length without stopwords: \", len(vocabulary))"
   ]
  },
  {
   "cell_type": "markdown",
   "metadata": {},
   "source": [
    "### Create binary vectors"
   ]
  },
  {
   "cell_type": "code",
   "execution_count": 30,
   "metadata": {},
   "outputs": [
    {
     "name": "stderr",
     "output_type": "stream",
     "text": [
      "100%|██████████| 25000/25000 [04:25<00:00, 94.12it/s] \n",
      "100%|██████████| 25000/25000 [04:16<00:00, 97.44it/s] \n"
     ]
    }
   ],
   "source": [
    "x_train_binary = list()\n",
    "x_test_binary = list()\n",
    "\n",
    "for text in tqdm(x_train):\n",
    "  tokens = text.split()\n",
    "  binary_vector = list()\n",
    "  for vocab_token in vocabulary:\n",
    "    if vocab_token in tokens:\n",
    "      binary_vector.append(1)\n",
    "    else:\n",
    "      binary_vector.append(0)\n",
    "  x_train_binary.append(binary_vector)\n",
    "\n",
    "x_train_binary = np.array(x_train_binary)\n",
    "\n",
    "for text in tqdm(x_test):\n",
    "  tokens = text.split()\n",
    "  binary_vector = list()\n",
    "  for vocab_token in vocabulary:\n",
    "    if vocab_token in tokens:\n",
    "      binary_vector.append(1)\n",
    "    else:\n",
    "      binary_vector.append(0)\n",
    "  x_test_binary.append(binary_vector)\n",
    "\n",
    "x_test_binary = np.array(x_test_binary)"
   ]
  },
  {
   "cell_type": "markdown",
   "metadata": {},
   "source": [
    "### My Bernoulli Naive Bayes implemenation"
   ]
  },
  {
   "cell_type": "code",
   "execution_count": 31,
   "metadata": {},
   "outputs": [],
   "source": [
    "class BNB():\n",
    "    def __init__(self) -> None:\n",
    "        self.fited = False\n",
    "\n",
    "    def fit(self, X, Y):\n",
    "        self.prior_positive, self.prior_negative = self.calculate_priors(Y)\n",
    "        # positive_count = np.zeros(len(X[0]), dtype=int)\n",
    "        # negative_count = np.zeros(len(X[0]), dtype=int)\n",
    "        positive_count = np.ones(len(X[0]), dtype=int) #ones instead of zeros for laplace\n",
    "        negative_count = np.ones(len(X[0]), dtype=int) \n",
    "        for document, label in zip(X, Y):\n",
    "            for idx, word in enumerate(document):\n",
    "                if label == 1:\n",
    "                    positive_count[idx] += word\n",
    "                else:\n",
    "                    negative_count[idx] += word\n",
    "        self.positive_frequencies = np.array([x/(len(X)*self.prior_positive) for x in positive_count])\n",
    "        self.negative_frequencies =  np.array([x/(len(X)*self.prior_negative) for x in negative_count])\n",
    "        self.fited = True\n",
    "\n",
    "    def predict(self, X):\n",
    "        if self.fited:\n",
    "            predictions = list()\n",
    "            for document in tqdm(X):\n",
    "                positive_prediction = self.prior_positive\n",
    "                negative_prediction = self.prior_negative\n",
    "                for idx, word in enumerate(document):\n",
    "                    if word == 1:\n",
    "                        positive_prediction *= self.positive_frequencies[idx]\n",
    "                        negative_prediction *= self.negative_frequencies[idx]\n",
    "                    else:\n",
    "                        positive_prediction *= (1 - self.positive_frequencies[idx])\n",
    "                        negative_prediction *= (1 - self.negative_frequencies[idx])\n",
    "\n",
    "                if positive_prediction >= negative_prediction:\n",
    "                    predictions.append(1)\n",
    "                else:\n",
    "                    predictions.append(0)\n",
    "            return predictions\n",
    "        else:\n",
    "            print(\"use fit first\")\n",
    "\n",
    "    def calculate_priors(self, Y):\n",
    "        return np.sum(Y)/len(Y), 1 - np.sum(Y)/len(Y)"
   ]
  },
  {
   "cell_type": "markdown",
   "metadata": {},
   "source": [
    "### Helper functions"
   ]
  },
  {
   "cell_type": "code",
   "execution_count": 32,
   "metadata": {},
   "outputs": [],
   "source": [
    "def calculate_precision(Y, X):\n",
    "    tp, fp, tn, fn = calculate_confusion(Y, X)\n",
    "    return tp / (fp + tp)\n",
    "\n",
    "def calculate_recall(Y, X):\n",
    "    tp, fp, tn, fn = calculate_confusion(Y, X)\n",
    "    return tp / (fn + tp)\n",
    "\n",
    "def calculate_f1_score(Y, X):\n",
    "    return 2 * calculate_precision(Y, X) * calculate_recall(Y, X) / (calculate_precision(Y, X) + calculate_recall(Y, X))\n",
    "\n",
    "def calculate_accuracy(Y, X):\n",
    "    tp, fp, tn, fn = calculate_confusion(Y, X)\n",
    "    return (tp + tn) / (tp + fn + tn + fp)\n",
    "\n",
    "def calculate_confusion(Y, X):\n",
    "    tp, fp, tn, fn = 0, 0, 0, 0\n",
    "    for actual, prediction in zip(Y, X):\n",
    "        if actual == 1 and prediction == 1:\n",
    "            tp += 1\n",
    "        elif actual == 1 and prediction == 0:\n",
    "            fn += 1\n",
    "        elif actual == 0 and prediction == 1:\n",
    "            fp += 1\n",
    "        else:\n",
    "            tn += 1\n",
    "    return tp, fp, tn, fn\n"
   ]
  },
  {
   "cell_type": "markdown",
   "metadata": {},
   "source": [
    "### Fit my implementation and predict in stages"
   ]
  },
  {
   "cell_type": "code",
   "execution_count": 33,
   "metadata": {},
   "outputs": [
    {
     "name": "stdout",
     "output_type": "stream",
     "text": [
      "100 :\n"
     ]
    },
    {
     "name": "stderr",
     "output_type": "stream",
     "text": [
      "100%|██████████| 25000/25000 [01:42<00:00, 244.12it/s]\n"
     ]
    },
    {
     "name": "stdout",
     "output_type": "stream",
     "text": [
      "              precision    recall  f1-score   support\n",
      "\n",
      "           0       0.52      0.96      0.67     12500\n",
      "           1       0.73      0.10      0.17     12500\n",
      "\n",
      "    accuracy                           0.53     25000\n",
      "   macro avg       0.62      0.53      0.42     25000\n",
      "weighted avg       0.62      0.53      0.42     25000\n",
      "\n",
      "Accuracy:  0.53024\n",
      "Precision:  0.7299270072992701\n",
      "Recall:  0.096\n",
      "F1-score:  0.16968325791855204\n",
      "200 :\n"
     ]
    },
    {
     "name": "stderr",
     "output_type": "stream",
     "text": [
      "100%|██████████| 25000/25000 [01:41<00:00, 245.80it/s]\n"
     ]
    },
    {
     "name": "stdout",
     "output_type": "stream",
     "text": [
      "              precision    recall  f1-score   support\n",
      "\n",
      "           0       0.60      0.93      0.73     12500\n",
      "           1       0.85      0.38      0.52     12500\n",
      "\n",
      "    accuracy                           0.65     25000\n",
      "   macro avg       0.72      0.65      0.63     25000\n",
      "weighted avg       0.72      0.65      0.63     25000\n",
      "\n",
      "Accuracy:  0.65424\n",
      "Precision:  0.8466379000359583\n",
      "Recall:  0.37672\n",
      "F1-score:  0.5214261986490976\n",
      "300 :\n"
     ]
    },
    {
     "name": "stderr",
     "output_type": "stream",
     "text": [
      "100%|██████████| 25000/25000 [01:41<00:00, 246.98it/s]\n"
     ]
    },
    {
     "name": "stdout",
     "output_type": "stream",
     "text": [
      "              precision    recall  f1-score   support\n",
      "\n",
      "           0       0.76      0.83      0.79     12500\n",
      "           1       0.81      0.74      0.77     12500\n",
      "\n",
      "    accuracy                           0.78     25000\n",
      "   macro avg       0.79      0.78      0.78     25000\n",
      "weighted avg       0.79      0.78      0.78     25000\n",
      "\n",
      "Accuracy:  0.78444\n",
      "Precision:  0.814173367500221\n",
      "Recall:  0.73712\n",
      "F1-score:  0.7737330478229836\n",
      "400 :\n"
     ]
    },
    {
     "name": "stderr",
     "output_type": "stream",
     "text": [
      "100%|██████████| 25000/25000 [01:41<00:00, 245.95it/s]\n"
     ]
    },
    {
     "name": "stdout",
     "output_type": "stream",
     "text": [
      "              precision    recall  f1-score   support\n",
      "\n",
      "           0       0.81      0.77      0.79     12500\n",
      "           1       0.78      0.82      0.80     12500\n",
      "\n",
      "    accuracy                           0.80     25000\n",
      "   macro avg       0.80      0.80      0.80     25000\n",
      "weighted avg       0.80      0.80      0.80     25000\n",
      "\n",
      "Accuracy:  0.7972\n",
      "Precision:  0.7835444970233552\n",
      "Recall:  0.82128\n",
      "F1-score:  0.8019685962034215\n",
      "500 :\n"
     ]
    },
    {
     "name": "stderr",
     "output_type": "stream",
     "text": [
      "100%|██████████| 25000/25000 [01:41<00:00, 245.97it/s]\n"
     ]
    },
    {
     "name": "stdout",
     "output_type": "stream",
     "text": [
      "              precision    recall  f1-score   support\n",
      "\n",
      "           0       0.77      0.83      0.80     12500\n",
      "           1       0.82      0.76      0.79     12500\n",
      "\n",
      "    accuracy                           0.79     25000\n",
      "   macro avg       0.80      0.79      0.79     25000\n",
      "weighted avg       0.80      0.79      0.79     25000\n",
      "\n",
      "Accuracy:  0.7942\n",
      "Precision:  0.8177105831533478\n",
      "Recall:  0.7572\n",
      "F1-score:  0.7862928348909657\n",
      "1000 :\n"
     ]
    },
    {
     "name": "stderr",
     "output_type": "stream",
     "text": [
      "100%|██████████| 25000/25000 [01:41<00:00, 246.78it/s]\n"
     ]
    },
    {
     "name": "stdout",
     "output_type": "stream",
     "text": [
      "              precision    recall  f1-score   support\n",
      "\n",
      "           0       0.79      0.84      0.82     12500\n",
      "           1       0.83      0.78      0.80     12500\n",
      "\n",
      "    accuracy                           0.81     25000\n",
      "   macro avg       0.81      0.81      0.81     25000\n",
      "weighted avg       0.81      0.81      0.81     25000\n",
      "\n",
      "Accuracy:  0.80996\n",
      "Precision:  0.8282083862770012\n",
      "Recall:  0.78216\n",
      "F1-score:  0.8045258177329767\n",
      "2000 :\n"
     ]
    },
    {
     "name": "stderr",
     "output_type": "stream",
     "text": [
      "100%|██████████| 25000/25000 [01:41<00:00, 246.42it/s]\n"
     ]
    },
    {
     "name": "stdout",
     "output_type": "stream",
     "text": [
      "              precision    recall  f1-score   support\n",
      "\n",
      "           0       0.81      0.85      0.83     12500\n",
      "           1       0.84      0.80      0.82     12500\n",
      "\n",
      "    accuracy                           0.82     25000\n",
      "   macro avg       0.82      0.82      0.82     25000\n",
      "weighted avg       0.82      0.82      0.82     25000\n",
      "\n",
      "Accuracy:  0.82264\n",
      "Precision:  0.8383957039771773\n",
      "Recall:  0.79936\n",
      "F1-score:  0.8184126464083872\n",
      "2500 :\n"
     ]
    },
    {
     "name": "stderr",
     "output_type": "stream",
     "text": [
      "100%|██████████| 25000/25000 [01:41<00:00, 246.52it/s]\n"
     ]
    },
    {
     "name": "stdout",
     "output_type": "stream",
     "text": [
      "              precision    recall  f1-score   support\n",
      "\n",
      "           0       0.81      0.85      0.83     12500\n",
      "           1       0.84      0.80      0.82     12500\n",
      "\n",
      "    accuracy                           0.82     25000\n",
      "   macro avg       0.83      0.82      0.82     25000\n",
      "weighted avg       0.83      0.82      0.82     25000\n",
      "\n",
      "Accuracy:  0.82432\n",
      "Precision:  0.8432102946156451\n",
      "Recall:  0.7968\n",
      "F1-score:  0.8193484698914116\n",
      "5000 :\n"
     ]
    },
    {
     "name": "stderr",
     "output_type": "stream",
     "text": [
      "100%|██████████| 25000/25000 [01:41<00:00, 246.84it/s]\n"
     ]
    },
    {
     "name": "stdout",
     "output_type": "stream",
     "text": [
      "              precision    recall  f1-score   support\n",
      "\n",
      "           0       0.82      0.85      0.83     12500\n",
      "           1       0.84      0.82      0.83     12500\n",
      "\n",
      "    accuracy                           0.83     25000\n",
      "   macro avg       0.83      0.83      0.83     25000\n",
      "weighted avg       0.83      0.83      0.83     25000\n",
      "\n",
      "Accuracy:  0.83236\n",
      "Precision:  0.8414563984548369\n",
      "Recall:  0.81904\n",
      "F1-score:  0.8300968905825598\n",
      "7500 :\n"
     ]
    },
    {
     "name": "stderr",
     "output_type": "stream",
     "text": [
      "100%|██████████| 25000/25000 [01:41<00:00, 246.55it/s]\n"
     ]
    },
    {
     "name": "stdout",
     "output_type": "stream",
     "text": [
      "              precision    recall  f1-score   support\n",
      "\n",
      "           0       0.83      0.84      0.84     12500\n",
      "           1       0.84      0.83      0.83     12500\n",
      "\n",
      "    accuracy                           0.84     25000\n",
      "   macro avg       0.84      0.84      0.84     25000\n",
      "weighted avg       0.84      0.84      0.84     25000\n",
      "\n",
      "Accuracy:  0.83504\n",
      "Precision:  0.8403771131339401\n",
      "Recall:  0.8272\n",
      "F1-score:  0.8337364941138526\n",
      "10000 :\n"
     ]
    },
    {
     "name": "stderr",
     "output_type": "stream",
     "text": [
      "100%|██████████| 25000/25000 [01:41<00:00, 245.96it/s]\n"
     ]
    },
    {
     "name": "stdout",
     "output_type": "stream",
     "text": [
      "              precision    recall  f1-score   support\n",
      "\n",
      "           0       0.84      0.84      0.84     12500\n",
      "           1       0.84      0.84      0.84     12500\n",
      "\n",
      "    accuracy                           0.84     25000\n",
      "   macro avg       0.84      0.84      0.84     25000\n",
      "weighted avg       0.84      0.84      0.84     25000\n",
      "\n",
      "Accuracy:  0.83988\n",
      "Precision:  0.8403974040541623\n",
      "Recall:  0.83912\n",
      "F1-score:  0.8397582162443457\n",
      "12500 :\n"
     ]
    },
    {
     "name": "stderr",
     "output_type": "stream",
     "text": [
      "100%|██████████| 25000/25000 [01:41<00:00, 245.37it/s]\n"
     ]
    },
    {
     "name": "stdout",
     "output_type": "stream",
     "text": [
      "              precision    recall  f1-score   support\n",
      "\n",
      "           0       0.84      0.84      0.84     12500\n",
      "           1       0.84      0.83      0.84     12500\n",
      "\n",
      "    accuracy                           0.84     25000\n",
      "   macro avg       0.84      0.84      0.84     25000\n",
      "weighted avg       0.84      0.84      0.84     25000\n",
      "\n",
      "Accuracy:  0.83876\n",
      "Precision:  0.841354292623942\n",
      "Recall:  0.83496\n",
      "F1-score:  0.8381449508130898\n",
      "15000 :\n"
     ]
    },
    {
     "name": "stderr",
     "output_type": "stream",
     "text": [
      "100%|██████████| 25000/25000 [01:42<00:00, 244.16it/s]\n"
     ]
    },
    {
     "name": "stdout",
     "output_type": "stream",
     "text": [
      "              precision    recall  f1-score   support\n",
      "\n",
      "           0       0.83      0.84      0.84     12500\n",
      "           1       0.84      0.83      0.84     12500\n",
      "\n",
      "    accuracy                           0.84     25000\n",
      "   macro avg       0.84      0.84      0.84     25000\n",
      "weighted avg       0.84      0.84      0.84     25000\n",
      "\n",
      "Accuracy:  0.83696\n",
      "Precision:  0.8397322148733667\n",
      "Recall:  0.83288\n",
      "F1-score:  0.8362920716523415\n",
      "17500 :\n"
     ]
    },
    {
     "name": "stderr",
     "output_type": "stream",
     "text": [
      "100%|██████████| 25000/25000 [01:42<00:00, 245.03it/s]\n"
     ]
    },
    {
     "name": "stdout",
     "output_type": "stream",
     "text": [
      "              precision    recall  f1-score   support\n",
      "\n",
      "           0       0.83      0.84      0.84     12500\n",
      "           1       0.84      0.83      0.84     12500\n",
      "\n",
      "    accuracy                           0.84     25000\n",
      "   macro avg       0.84      0.84      0.84     25000\n",
      "weighted avg       0.84      0.84      0.84     25000\n",
      "\n",
      "Accuracy:  0.83744\n",
      "Precision:  0.8408209437621202\n",
      "Recall:  0.83248\n",
      "F1-score:  0.8366296832288149\n",
      "20000 :\n"
     ]
    },
    {
     "name": "stderr",
     "output_type": "stream",
     "text": [
      "100%|██████████| 25000/25000 [01:42<00:00, 244.99it/s]\n"
     ]
    },
    {
     "name": "stdout",
     "output_type": "stream",
     "text": [
      "              precision    recall  f1-score   support\n",
      "\n",
      "           0       0.83      0.84      0.84     12500\n",
      "           1       0.84      0.83      0.84     12500\n",
      "\n",
      "    accuracy                           0.84     25000\n",
      "   macro avg       0.84      0.84      0.84     25000\n",
      "weighted avg       0.84      0.84      0.84     25000\n",
      "\n",
      "Accuracy:  0.83652\n",
      "Precision:  0.8419640679619543\n",
      "Recall:  0.82856\n",
      "F1-score:  0.8352082577315432\n",
      "22500 :\n"
     ]
    },
    {
     "name": "stderr",
     "output_type": "stream",
     "text": [
      "100%|██████████| 25000/25000 [01:42<00:00, 243.15it/s]\n"
     ]
    },
    {
     "name": "stdout",
     "output_type": "stream",
     "text": [
      "              precision    recall  f1-score   support\n",
      "\n",
      "           0       0.84      0.84      0.84     12500\n",
      "           1       0.84      0.84      0.84     12500\n",
      "\n",
      "    accuracy                           0.84     25000\n",
      "   macro avg       0.84      0.84      0.84     25000\n",
      "weighted avg       0.84      0.84      0.84     25000\n",
      "\n",
      "Accuracy:  0.83908\n",
      "Precision:  0.841456537501007\n",
      "Recall:  0.8356\n",
      "F1-score:  0.8385180427889054\n",
      "25000 :\n"
     ]
    },
    {
     "name": "stderr",
     "output_type": "stream",
     "text": [
      "100%|██████████| 25000/25000 [01:42<00:00, 245.08it/s]\n"
     ]
    },
    {
     "name": "stdout",
     "output_type": "stream",
     "text": [
      "              precision    recall  f1-score   support\n",
      "\n",
      "           0       0.84      0.84      0.84     12500\n",
      "           1       0.84      0.84      0.84     12500\n",
      "\n",
      "    accuracy                           0.84     25000\n",
      "   macro avg       0.84      0.84      0.84     25000\n",
      "weighted avg       0.84      0.84      0.84     25000\n",
      "\n",
      "Accuracy:  0.83988\n",
      "Precision:  0.8399615907817877\n",
      "Recall:  0.83976\n",
      "F1-score:  0.8398607832939952\n"
     ]
    }
   ],
   "source": [
    "myBNB = BNB()\n",
    "accuracy = list()\n",
    "precision = list()\n",
    "recall = list()\n",
    "f1 = list()\n",
    "step_percentage = 0.1\n",
    "steps = ([100, 200, 300, 400, 500, 1000, 2000] + list(range(int(len(y_train)*step_percentage) , len(y_train) + 1 , int(len(y_train)*step_percentage))))\n",
    "for step in steps:\n",
    "    print(step, \":\")\n",
    "    myBNB.fit(x_train_binary[:step], y_train[:step])\n",
    "    predictions =  myBNB.predict(x_test_binary)\n",
    "    print(classification_report(y_test, predictions))\n",
    "    accuracy.append(calculate_accuracy(y_test, predictions))\n",
    "    precision.append(calculate_precision(y_test, predictions))\n",
    "    recall.append(calculate_recall(y_test, predictions))\n",
    "    f1.append(calculate_f1_score(y_test, predictions))\n",
    "    print(\"Accuracy: \", calculate_accuracy(y_test, predictions))\n",
    "    print(\"Precision: \", calculate_precision(y_test, predictions))\n",
    "    print(\"Recall: \", calculate_recall(y_test, predictions))\n",
    "    print(\"F1-score: \", calculate_f1_score(y_test, predictions))"
   ]
  },
  {
   "cell_type": "markdown",
   "metadata": {},
   "source": [
    "### Compare with sklearn's implementation"
   ]
  },
  {
   "cell_type": "code",
   "execution_count": 34,
   "metadata": {},
   "outputs": [
    {
     "name": "stdout",
     "output_type": "stream",
     "text": [
      "100 :\n",
      "              precision    recall  f1-score   support\n",
      "\n",
      "           0       0.52      0.97      0.68     12500\n",
      "           1       0.78      0.11      0.19     12500\n",
      "\n",
      "    accuracy                           0.54     25000\n",
      "   macro avg       0.65      0.54      0.43     25000\n",
      "weighted avg       0.65      0.54      0.43     25000\n",
      "\n",
      "200 :\n",
      "              precision    recall  f1-score   support\n",
      "\n",
      "           0       0.61      0.94      0.74     12500\n",
      "           1       0.88      0.40      0.55     12500\n",
      "\n",
      "    accuracy                           0.67     25000\n",
      "   macro avg       0.74      0.67      0.65     25000\n",
      "weighted avg       0.74      0.67      0.65     25000\n",
      "\n",
      "300 :\n",
      "              precision    recall  f1-score   support\n",
      "\n",
      "           0       0.76      0.85      0.80     12500\n",
      "           1       0.83      0.73      0.78     12500\n",
      "\n",
      "    accuracy                           0.79     25000\n",
      "   macro avg       0.79      0.79      0.79     25000\n",
      "weighted avg       0.79      0.79      0.79     25000\n",
      "\n",
      "400 :\n",
      "              precision    recall  f1-score   support\n",
      "\n",
      "           0       0.81      0.79      0.80     12500\n",
      "           1       0.80      0.81      0.81     12500\n",
      "\n",
      "    accuracy                           0.80     25000\n",
      "   macro avg       0.80      0.80      0.80     25000\n",
      "weighted avg       0.80      0.80      0.80     25000\n",
      "\n",
      "500 :\n",
      "              precision    recall  f1-score   support\n",
      "\n",
      "           0       0.78      0.85      0.81     12500\n",
      "           1       0.83      0.75      0.79     12500\n",
      "\n",
      "    accuracy                           0.80     25000\n",
      "   macro avg       0.80      0.80      0.80     25000\n",
      "weighted avg       0.80      0.80      0.80     25000\n",
      "\n",
      "1000 :\n",
      "              precision    recall  f1-score   support\n",
      "\n",
      "           0       0.80      0.86      0.82     12500\n",
      "           1       0.84      0.78      0.81     12500\n",
      "\n",
      "    accuracy                           0.82     25000\n",
      "   macro avg       0.82      0.82      0.82     25000\n",
      "weighted avg       0.82      0.82      0.82     25000\n",
      "\n",
      "2000 :\n",
      "              precision    recall  f1-score   support\n",
      "\n",
      "           0       0.81      0.86      0.84     12500\n",
      "           1       0.85      0.80      0.82     12500\n",
      "\n",
      "    accuracy                           0.83     25000\n",
      "   macro avg       0.83      0.83      0.83     25000\n",
      "weighted avg       0.83      0.83      0.83     25000\n",
      "\n",
      "2500 :\n",
      "              precision    recall  f1-score   support\n",
      "\n",
      "           0       0.81      0.87      0.84     12500\n",
      "           1       0.86      0.79      0.83     12500\n",
      "\n",
      "    accuracy                           0.83     25000\n",
      "   macro avg       0.83      0.83      0.83     25000\n",
      "weighted avg       0.83      0.83      0.83     25000\n",
      "\n",
      "5000 :\n",
      "              precision    recall  f1-score   support\n",
      "\n",
      "           0       0.82      0.86      0.84     12500\n",
      "           1       0.86      0.82      0.84     12500\n",
      "\n",
      "    accuracy                           0.84     25000\n",
      "   macro avg       0.84      0.84      0.84     25000\n",
      "weighted avg       0.84      0.84      0.84     25000\n",
      "\n",
      "7500 :\n",
      "              precision    recall  f1-score   support\n",
      "\n",
      "           0       0.83      0.86      0.85     12500\n",
      "           1       0.86      0.82      0.84     12500\n",
      "\n",
      "    accuracy                           0.84     25000\n",
      "   macro avg       0.84      0.84      0.84     25000\n",
      "weighted avg       0.84      0.84      0.84     25000\n",
      "\n",
      "10000 :\n",
      "              precision    recall  f1-score   support\n",
      "\n",
      "           0       0.84      0.86      0.85     12500\n",
      "           1       0.86      0.84      0.85     12500\n",
      "\n",
      "    accuracy                           0.85     25000\n",
      "   macro avg       0.85      0.85      0.85     25000\n",
      "weighted avg       0.85      0.85      0.85     25000\n",
      "\n",
      "12500 :\n",
      "              precision    recall  f1-score   support\n",
      "\n",
      "           0       0.84      0.86      0.85     12500\n",
      "           1       0.86      0.83      0.84     12500\n",
      "\n",
      "    accuracy                           0.85     25000\n",
      "   macro avg       0.85      0.85      0.85     25000\n",
      "weighted avg       0.85      0.85      0.85     25000\n",
      "\n",
      "15000 :\n",
      "              precision    recall  f1-score   support\n",
      "\n",
      "           0       0.84      0.86      0.85     12500\n",
      "           1       0.86      0.83      0.84     12500\n",
      "\n",
      "    accuracy                           0.85     25000\n",
      "   macro avg       0.85      0.85      0.85     25000\n",
      "weighted avg       0.85      0.85      0.85     25000\n",
      "\n",
      "17500 :\n",
      "              precision    recall  f1-score   support\n",
      "\n",
      "           0       0.84      0.86      0.85     12500\n",
      "           1       0.86      0.83      0.84     12500\n",
      "\n",
      "    accuracy                           0.85     25000\n",
      "   macro avg       0.85      0.85      0.85     25000\n",
      "weighted avg       0.85      0.85      0.85     25000\n",
      "\n",
      "20000 :\n",
      "              precision    recall  f1-score   support\n",
      "\n",
      "           0       0.83      0.86      0.85     12500\n",
      "           1       0.86      0.83      0.84     12500\n",
      "\n",
      "    accuracy                           0.84     25000\n",
      "   macro avg       0.85      0.84      0.84     25000\n",
      "weighted avg       0.85      0.84      0.84     25000\n",
      "\n",
      "22500 :\n",
      "              precision    recall  f1-score   support\n",
      "\n",
      "           0       0.84      0.86      0.85     12500\n",
      "           1       0.86      0.83      0.85     12500\n",
      "\n",
      "    accuracy                           0.85     25000\n",
      "   macro avg       0.85      0.85      0.85     25000\n",
      "weighted avg       0.85      0.85      0.85     25000\n",
      "\n",
      "25000 :\n",
      "              precision    recall  f1-score   support\n",
      "\n",
      "           0       0.84      0.86      0.85     12500\n",
      "           1       0.86      0.84      0.85     12500\n",
      "\n",
      "    accuracy                           0.85     25000\n",
      "   macro avg       0.85      0.85      0.85     25000\n",
      "weighted avg       0.85      0.85      0.85     25000\n",
      "\n"
     ]
    }
   ],
   "source": [
    "nb = BernoulliNB()\n",
    "for step in steps:\n",
    "    print(step, \":\")\n",
    "    nb.fit(x_train_binary[:step], y_train[:step])\n",
    "    predictions = nb.predict(x_test_binary)\n",
    "    print(classification_report(y_test, predictions))"
   ]
  },
  {
   "cell_type": "markdown",
   "metadata": {},
   "source": [
    "### Generate graph"
   ]
  },
  {
   "cell_type": "code",
   "execution_count": 35,
   "metadata": {},
   "outputs": [
    {
     "data": {
      "text/plain": [
       "Text(0, 0.5, 'Metrics')"
      ]
     },
     "execution_count": 35,
     "metadata": {},
     "output_type": "execute_result"
    },
    {
     "data": {
      "image/png": "[encoded data removed]",
      "text/plain": [
       "<Figure size 1280x720 with 1 Axes>"
      ]
     },
     "metadata": {
      "needs_background": "light"
     },
     "output_type": "display_data"
    }
   ],
   "source": [
    "plt.figure(figsize=(16,9), dpi= 80)\n",
    "plt.plot(steps, accuracy)\n",
    "plt.plot(steps, precision)\n",
    "plt.plot(steps, recall)\n",
    "plt.plot(steps, f1)\n",
    "plt.legend ([\"Accuracy\", \"Precision\", \"Recall\", \"F1 Score\"])\n",
    "plt.ylim(0.5,1)\n",
    "plt.title(\"Metrics Graph\", fontsize=22)\n",
    "plt.xlabel(\"Size of training data\")\n",
    "plt.ylabel(\"Metrics\")"
   ]
  },
  {
   "cell_type": "markdown",
   "metadata": {},
   "source": [
    "### Test with 8000 words and 5000 reviews"
   ]
  },
  {
   "cell_type": "code",
   "execution_count": 36,
   "metadata": {},
   "outputs": [
    {
     "name": "stdout",
     "output_type": "stream",
     "text": [
      "Original Vocabulary Length:  7997\n",
      "Vocabulary Length without stopwords:  7834\n"
     ]
    },
    {
     "name": "stderr",
     "output_type": "stream",
     "text": [
      "100%|██████████| 5000/5000 [01:51<00:00, 44.90it/s]\n",
      "100%|██████████| 5000/5000 [01:44<00:00, 47.98it/s]\n"
     ]
    }
   ],
   "source": [
    "(x_train, y_train), (x_test, y_test) = keras.datasets.imdb.load_data(num_words=8000)\n",
    "\n",
    "word_index = keras.datasets.imdb.get_word_index()\n",
    "index2word = dict((i + 3, word) for (word, i) in word_index.items())\n",
    "index2word[0] = '[pad]'\n",
    "index2word[1] = '[bos]'\n",
    "index2word[2] = '[oov]'\n",
    "x_train = np.array([' '.join([index2word[idx] for idx in text]) for text in x_train])\n",
    "x_test = np.array([' '.join([index2word[idx] for idx in text]) for text in x_test])\n",
    "\n",
    "vocabulary = list()\n",
    "for text in x_train:\n",
    "  tokens = text.split()\n",
    "  vocabulary.extend(tokens)\n",
    "\n",
    "vocabulary = set(vocabulary)\n",
    "print(\"Original Vocabulary Length: \", len(vocabulary))\n",
    "\n",
    "stopwords = ['the', 'and', 'a', 'of', 'to', 'is', 'br', 'in', 'it', 'i', 'this', 'that', 'was', 'as', 'for', 'with', 'movie', 'but', 'film', 'on', 'you', 'are', 'his', 'have', 'he', 'be', 'one', 'all', 'at', 'by', 'an', 'they', 'who', 'so', 'from', 'her', 'or', 'just', 'about', \"it's\", 'out', 'has', 'if', 'some', 'there', 'what', 'more', 'when', 'very', 'up', 'time', 'she', 'even', 'my', 'would', 'which', 'only', 'story', 'really', 'see', 'their', 'had', 'can', 'were', 'me', 'than', 'we', 'been', 'get', 'will', 'do', 'also', 'into', 'people', 'other', 'first', 'because', 'how', 'him', 'most', 'made', 'its', 'then', 'way', 'make', 'them', 'too', 'could', 'any', 'movies', 'i', 'me', 'my', 'myself', 'we', 'our', 'ours', 'ourselves', 'you', \"you're\", \"you've\", \"you'll\", \"you'd\", 'your', 'yours', 'yourself', 'yourselves', 'he', 'him', 'his', 'himself', 'she', \"she's\", 'her', 'hers', 'herself', 'it', \"it's\", 'its', 'itself', 'they', 'them', 'their', 'theirs', 'themselves', 'what', 'which', 'who', 'whom', 'this', 'that', \"that'll\", 'these', 'those', 'am', 'is', 'are', 'was', 'were', 'be', 'been', 'being', 'have', 'has', 'had', 'having', 'do', 'does', 'did', 'doing', 'a', 'an', 'the', 'and', 'but', 'if', 'or', 'because', 'as', 'until', 'while', 'of', 'at', 'by', 'for', 'with', 'about', 'against', 'between', 'into', 'through', 'during', 'before', 'after', 'above', 'below', 'to', 'from', 'up', 'down', 'in', 'out', 'on', 'off', 'over', 'under', 'again', 'further', 'then', 'once', 'here', 'there', 'when', 'where', 'why', 'how', 'all', 'any', 'both', 'each', 'few', 'more', 'most', 'other', 'some', 'such', 'no', 'nor', 'only', 'own', 'same', 'so', 'than', 'too', 'very', 's', 't', 'can', 'will', 'just', 'don', 'should', \"should've\", 'now', 'd', 'll', 'm', 'o', 're', 've', 'y', 'ain', 'aren', \"aren't\", 'didn', \"didn't\", 'doesn', \"doesn't\", 'hadn', \"hadn't\", 'hasn', \"hasn't\", 'ma', 'mightn', \"mightn't\", 'needn', \"needn't\", 'shan', \"shan't\", 'wasn', \"wasn't\", 'weren', \"weren't\", '[pad]', '[bos]', '[oov]']\n",
    "vocabulary.difference_update(stopwords)\n",
    "\n",
    "print(\"Vocabulary Length without stopwords: \", len(vocabulary))\n",
    "\n",
    "x_train_binary = list()\n",
    "x_test_binary = list()\n",
    "\n",
    "for text in tqdm(x_train[:5000]):\n",
    "  tokens = text.split()\n",
    "  binary_vector = list()\n",
    "  for vocab_token in vocabulary:\n",
    "    if vocab_token in tokens:\n",
    "      binary_vector.append(1)\n",
    "    else:\n",
    "      binary_vector.append(0)\n",
    "  x_train_binary.append(binary_vector)\n",
    "\n",
    "x_train_binary = np.array(x_train_binary)\n",
    "\n",
    "for text in tqdm(x_test[:5000]):\n",
    "  tokens = text.split()\n",
    "  binary_vector = list()\n",
    "  for vocab_token in vocabulary:\n",
    "    if vocab_token in tokens:\n",
    "      binary_vector.append(1)\n",
    "    else:\n",
    "      binary_vector.append(0)\n",
    "  x_test_binary.append(binary_vector)\n",
    "\n",
    "x_test_binary = np.array(x_test_binary)"
   ]
  },
  {
   "cell_type": "code",
   "execution_count": 37,
   "metadata": {},
   "outputs": [
    {
     "name": "stderr",
     "output_type": "stream",
     "text": [
      "100%|██████████| 5000/5000 [00:41<00:00, 119.51it/s]\n"
     ]
    },
    {
     "name": "stdout",
     "output_type": "stream",
     "text": [
      "              precision    recall  f1-score   support\n",
      "\n",
      "           0       0.82      0.83      0.82      2571\n",
      "           1       0.82      0.80      0.81      2429\n",
      "\n",
      "    accuracy                           0.82      5000\n",
      "   macro avg       0.82      0.82      0.82      5000\n",
      "weighted avg       0.82      0.82      0.82      5000\n",
      "\n",
      "Accuracy:  0.8166\n",
      "Precision:  0.8179142136248949\n",
      "Recall:  0.800741045697818\n",
      "F1-score:  0.8092365300603287\n",
      "              precision    recall  f1-score   support\n",
      "\n",
      "           0       0.82      0.87      0.84      2571\n",
      "           1       0.85      0.79      0.82      2429\n",
      "\n",
      "    accuracy                           0.83      5000\n",
      "   macro avg       0.83      0.83      0.83      5000\n",
      "weighted avg       0.83      0.83      0.83      5000\n",
      "\n"
     ]
    }
   ],
   "source": [
    "myBNB = BNB()\n",
    "myBNB.fit(x_train_binary, y_train[:5000])\n",
    "predictions =  myBNB.predict(x_test_binary)\n",
    "print(classification_report(y_test[:5000], predictions))\n",
    "print(\"Accuracy: \", calculate_accuracy(y_test[:5000], predictions))\n",
    "print(\"Precision: \", calculate_precision(y_test[:5000], predictions))\n",
    "print(\"Recall: \", calculate_recall(y_test[:5000], predictions))\n",
    "print(\"F1-score: \", calculate_f1_score(y_test[:5000], predictions))\n",
    "\n",
    "nb = BernoulliNB()\n",
    "nb.fit(x_train_binary, y_train[:5000])\n",
    "predictions = nb.predict(x_test_binary)\n",
    "print(classification_report(y_test[:5000], predictions))"
   ]
  }
 ],
 "metadata": {
  "interpreter": {
   "hash": "62f3535457eb93f2f758cb7719215f0bdad15136930ff06358bb31ed0d687c07"
  },
  "kernelspec": {
   "display_name": "Python 3.9.4 64-bit ('.venv': venv)",
   "language": "python",
   "name": "python3"
  },
  "language_info": {
   "codemirror_mode": {
    "name": "ipython",
    "version": 3
   },
   "file_extension": ".py",
   "mimetype": "text/x-python",
   "name": "python",
   "nbconvert_exporter": "python",
   "pygments_lexer": "ipython3",
   "version": "3.9.4"
  },
  "orig_nbformat": 4
 },
 "nbformat": 4,
 "nbformat_minor": 2
}
