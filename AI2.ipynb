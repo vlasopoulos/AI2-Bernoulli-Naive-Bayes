{
 "cells": [
  {
   "cell_type": "code",
   "execution_count": null,
   "metadata": {},
   "outputs": [],
   "source": [
    "import numpy as np\n",
    "from tensorflow import keras\n",
    "\n",
    "(x_train, y_train), (x_test, y_test) = keras.datasets.imdb.load_data(num_words=2000)\n",
    "\n",
    "word_index = keras.datasets.imdb.get_word_index()\n",
    "index2word = dict((i + 3, word) for (word, i) in word_index.items())\n",
    "index2word[0] = '[pad]'\n",
    "index2word[1] = '[bos]'\n",
    "index2word[2] = '[oov]'\n",
    "x_train = np.array([' '.join([index2word[idx] for idx in text]) for text in x_train])\n",
    "x_test = np.array([' '.join([index2word[idx] for idx in text]) for text in x_test])"
   ]
  },
  {
   "cell_type": "code",
   "execution_count": null,
   "metadata": {},
   "outputs": [],
   "source": [
    "vocabulary = list()\n",
    "for text in x_train:\n",
    "  tokens = text.split()\n",
    "  vocabulary.extend(tokens)\n",
    "\n",
    "vocabulary = set(vocabulary)\n",
    "print(len(vocabulary))"
   ]
  },
  {
   "cell_type": "code",
   "execution_count": null,
   "metadata": {},
   "outputs": [],
   "source": [
    "from tqdm import tqdm\n",
    "\n",
    "x_train_binary = list()\n",
    "x_test_binary = list()\n",
    "\n",
    "for text in tqdm(x_train):\n",
    "  tokens = text.split()\n",
    "  binary_vector = list()\n",
    "  for vocab_token in vocabulary:\n",
    "    if vocab_token in tokens:\n",
    "      binary_vector.append(1)\n",
    "    else:\n",
    "      binary_vector.append(0)\n",
    "  x_train_binary.append(binary_vector)\n",
    "\n",
    "x_train_binary = np.array(x_train_binary)\n",
    "\n",
    "for text in tqdm(x_test):\n",
    "  tokens = text.split()\n",
    "  binary_vector = list()\n",
    "  for vocab_token in vocabulary:\n",
    "    if vocab_token in tokens:\n",
    "      binary_vector.append(1)\n",
    "    else:\n",
    "      binary_vector.append(0)\n",
    "  x_test_binary.append(binary_vector)\n",
    "\n",
    "x_test_binary = np.array(x_test_binary)"
   ]
  },
  {
   "cell_type": "markdown",
   "metadata": {},
   "source": [
    "### testing"
   ]
  },
  {
   "cell_type": "code",
   "execution_count": null,
   "metadata": {},
   "outputs": [],
   "source": [
    "prior_positive = np.sum(y_train)/len(y_train)\n",
    "prior_negative = 1 - prior_positive"
   ]
  },
  {
   "cell_type": "code",
   "execution_count": null,
   "metadata": {},
   "outputs": [],
   "source": [
    "positive_count = np.zeros(len(x_train_binary[0]))\n",
    "negative_count = np.zeros(len(x_train_binary[0]))\n",
    "\n",
    "for review, label in zip(x_train_binary, y_train):\n",
    "    for idx2, word in enumerate(review):\n",
    "        if label == 1:\n",
    "            positive_count[idx2] += word\n",
    "        else:\n",
    "            negative_count[idx2] += word\n",
    "\n",
    "positive_count[:5], negative_count[:5]"
   ]
  },
  {
   "cell_type": "code",
   "execution_count": null,
   "metadata": {},
   "outputs": [],
   "source": [
    "positive_frequencies = np.array([x/(len(x_train_binary)*prior_positive) for x in positive_count])\n",
    "negative_frequencies = np.array([x/(len(x_train_binary)*prior_negative) for x in negative_count])\n",
    "\n",
    "positive_frequencies[:5], negative_frequencies[:5]"
   ]
  },
  {
   "cell_type": "code",
   "execution_count": null,
   "metadata": {},
   "outputs": [],
   "source": [
    "predictions = list()\n",
    "for idx1, correct in enumerate(y_test):\n",
    "    positive_prediction = prior_positive\n",
    "    negative_prediction = prior_negative\n",
    "    for idx2, word in enumerate(x_test_binary[idx1]):\n",
    "        if word:\n",
    "            positive_prediction *= positive_frequencies[idx2]\n",
    "            negative_prediction *= negative_frequencies[idx2]\n",
    "        else:\n",
    "            positive_prediction *= (1 - positive_frequencies[idx2])\n",
    "            negative_prediction *= (1 - negative_frequencies[idx2])\n",
    "\n",
    "    if positive_prediction >= negative_prediction:\n",
    "        predictions.append(1)\n",
    "    else:\n",
    "        predictions.append(0)"
   ]
  },
  {
   "cell_type": "code",
   "execution_count": null,
   "metadata": {},
   "outputs": [],
   "source": [
    "# predictions = list()\n",
    "# for review, correct in zip(x_test_binary, y_test):\n",
    "#     positive_prediction = prior_positive\n",
    "#     negative_prediction = prior_negative\n",
    "\n",
    "#     present_indices = set(idx2 for idx2, word in enumerate(review) if word)\n",
    "#     for idx in range(max(len(positive_frequencies), len(negative_frequencies))):\n",
    "#         if idx in present_indices:\n",
    "#             positive_prediction *= positive_frequencies[idx]\n",
    "#             negative_prediction *= negative_frequencies[idx]\n",
    "#         else:\n",
    "#             positive_prediction *= (1 - positive_frequencies[idx])\n",
    "#             negative_prediction *= (1 - negative_frequencies[idx])\n",
    "\n",
    "#     if positive_prediction >= negative_prediction:\n",
    "#         predictions.append(1)\n",
    "#     else:\n",
    "#         predictions.append(0)"
   ]
  },
  {
   "cell_type": "code",
   "execution_count": null,
   "metadata": {},
   "outputs": [],
   "source": [
    "present_indices"
   ]
  },
  {
   "cell_type": "code",
   "execution_count": null,
   "metadata": {},
   "outputs": [],
   "source": [
    "from sklearn.naive_bayes import BernoulliNB\n",
    "\n",
    "nb = BernoulliNB()\n",
    "nb.fit(x_train_binary, y_train)"
   ]
  },
  {
   "cell_type": "code",
   "execution_count": null,
   "metadata": {},
   "outputs": [],
   "source": [
    "from sklearn.metrics import classification_report\n",
    "\n",
    "print(classification_report(y_test, nb.predict(x_test_binary)))"
   ]
  },
  {
   "cell_type": "code",
   "execution_count": null,
   "metadata": {},
   "outputs": [],
   "source": [
    "print(classification_report(y_test, predictions))"
   ]
  }
 ],
 "metadata": {
  "interpreter": {
   "hash": "62f3535457eb93f2f758cb7719215f0bdad15136930ff06358bb31ed0d687c07"
  },
  "kernelspec": {
   "display_name": "Python 3.9.4 64-bit ('.venv': venv)",
   "language": "python",
   "name": "python3"
  },
  "language_info": {
   "codemirror_mode": {
    "name": "ipython",
    "version": 3
   },
   "file_extension": ".py",
   "mimetype": "text/x-python",
   "name": "python",
   "nbconvert_exporter": "python",
   "pygments_lexer": "ipython3",
   "version": "3.10.1"
  },
  "orig_nbformat": 4
 },
 "nbformat": 4,
 "nbformat_minor": 2
}
